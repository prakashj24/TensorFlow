{
    "cells": [
        {
            "cell_type": "markdown",
            "metadata": {
                "collapsed": true
            },
            "source": "<h1>My Jupyter Notebook on IBM Watson Studio</h1>"
        },
        {
            "cell_type": "markdown",
            "metadata": {},
            "source": "<b>Prakash Jha</b>"
        },
        {
            "cell_type": "markdown",
            "metadata": {},
            "source": "I am a software developer and I wish to be a very good data scientist."
        },
        {
            "cell_type": "markdown",
            "metadata": {},
            "source": "<i>I am interested in data science is because it is a very fascinating field ranging from programming to statistics</i>"
        },
        {
            "cell_type": "markdown",
            "metadata": {},
            "source": "<h3>My code is going to print two integers</h3>"
        },
        {
            "cell_type": "code",
            "execution_count": 5,
            "metadata": {},
            "outputs": [
                {
                    "name": "stdout",
                    "output_type": "stream",
                    "text": "2\n"
                }
            ],
            "source": "print(1+1)"
        },
        {
            "cell_type": "markdown",
            "metadata": {},
            "source": "horizontalrule1\nhorizontalrule2\n\nhttp://www.google.com\n\n- bulletlist1\n- bulletlist2\n- bulletlist3\n\n* Nested list of Fruits\n  * Apple\n  * Orange\n  * Banana\n* Nested ListDairy\n  * Milk\n  * Cheese"
        },
        {
            "cell_type": "code",
            "execution_count": null,
            "metadata": {},
            "outputs": [],
            "source": ""
        }
    ],
    "metadata": {
        "kernelspec": {
            "display_name": "Python 3.6",
            "language": "python",
            "name": "python3"
        },
        "language_info": {
            "codemirror_mode": {
                "name": "ipython",
                "version": 3
            },
            "file_extension": ".py",
            "mimetype": "text/x-python",
            "name": "python",
            "nbconvert_exporter": "python",
            "pygments_lexer": "ipython3",
            "version": "3.6.9"
        }
    },
    "nbformat": 4,
    "nbformat_minor": 1
}